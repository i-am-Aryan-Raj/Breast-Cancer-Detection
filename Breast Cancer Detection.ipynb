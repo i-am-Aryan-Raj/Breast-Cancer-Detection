{
 "cells": [
  {
   "cell_type": "markdown",
   "id": "963b5774",
   "metadata": {},
   "source": [
    "# Import Libraries and Dependencies"
   ]
  },
  {
   "cell_type": "code",
   "execution_count": 1,
   "id": "f7e4efff",
   "metadata": {},
   "outputs": [
    {
     "name": "stdout",
     "output_type": "stream",
     "text": [
      "WARNING:tensorflow:From C:\\Users\\neoga\\AppData\\Local\\Packages\\PythonSoftwareFoundation.Python.3.11_qbz5n2kfra8p0\\LocalCache\\local-packages\\Python311\\site-packages\\keras\\src\\losses.py:2976: The name tf.losses.sparse_softmax_cross_entropy is deprecated. Please use tf.compat.v1.losses.sparse_softmax_cross_entropy instead.\n",
      "\n"
     ]
    }
   ],
   "source": [
    "import numpy as np\n",
    "import pandas as pd\n",
    "import matplotlib.pyplot as plt\n",
    "%matplotlib inline\n",
    "from tensorflow import keras\n",
    "import random"
   ]
  },
  {
   "cell_type": "markdown",
   "id": "7fcc0faa",
   "metadata": {},
   "source": [
    "# Data Pre-Processing"
   ]
  },
  {
   "cell_type": "code",
   "execution_count": 2,
   "id": "96efd8e9",
   "metadata": {},
   "outputs": [],
   "source": [
    "train_data=np.load(\"X_train.npy\")\n",
    "label_data=np.load(\"Y_train.npy\")\n",
    "test_data=np.load(\"X_test.npy\")"
   ]
  },
  {
   "cell_type": "code",
   "execution_count": 3,
   "id": "675b1de8",
   "metadata": {},
   "outputs": [
    {
     "data": {
      "text/plain": [
       "(4160, 50, 50, 3)"
      ]
     },
     "execution_count": 3,
     "metadata": {},
     "output_type": "execute_result"
    }
   ],
   "source": [
    "train_data.shape"
   ]
  },
  {
   "cell_type": "code",
   "execution_count": 4,
   "id": "67101b1f",
   "metadata": {},
   "outputs": [
    {
     "data": {
      "text/plain": [
       "(4160,)"
      ]
     },
     "execution_count": 4,
     "metadata": {},
     "output_type": "execute_result"
    }
   ],
   "source": [
    "label_data.shape"
   ]
  },
  {
   "cell_type": "code",
   "execution_count": 5,
   "id": "b1535227",
   "metadata": {},
   "outputs": [],
   "source": [
    "train_data=train_data.reshape(len(train_data),50,50,3)\n",
    "train_data=train_data/255\n",
    "\n",
    "test_data=test_data.reshape(len(test_data),50,50,3)\n",
    "test_data=test_data/255"
   ]
  },
  {
   "cell_type": "code",
   "execution_count": 6,
   "id": "396e2f26",
   "metadata": {},
   "outputs": [
    {
     "data": {
      "image/png": "[encoded data removed]",
      "text/plain": [
       "<Figure size 640x480 with 1 Axes>"
      ]
     },
     "metadata": {},
     "output_type": "display_data"
    }
   ],
   "source": [
    "idx=random.randint(0,len(train_data))\n",
    "plt.imshow(train_data[idx,:])\n",
    "plt.show()"
   ]
  },
  {
   "cell_type": "code",
   "execution_count": 7,
   "id": "d5a92b2e-4336-48ac-8195-7e0347641c83",
   "metadata": {},
   "outputs": [
    {
     "name": "stdout",
     "output_type": "stream",
     "text": [
      "Training data shape - X_train: (2912, 50, 50, 3) y_train: (2912,)\n",
      "Testing data shape - X_test: (624, 50, 50, 3) y_test: (624,)\n",
      "Validation data shape - X_dev: (624, 50, 50, 3) y_dev: (624,)\n"
     ]
    }
   ],
   "source": [
    "from sklearn.model_selection import train_test_split\n",
    "\n",
    "\n",
    "# Splitting data into train and combined test+dev sets (60% train, 40% test+dev)\n",
    "train_data, X_test_dev, label_data, y_test_dev = train_test_split(train_data, label_data, test_size=0.3, random_state=42)\n",
    "\n",
    "# Splitting combined test+dev data into test and dev sets (50% test, 50% dev)\n",
    "X_test, X_dev, y_test, y_dev = train_test_split(X_test_dev, y_test_dev, test_size=0.5, random_state=42)\n",
    "\n",
    "# Check shapes of training data\n",
    "print(\"Training data shape - X_train:\", train_data.shape, \"y_train:\", label_data.shape)\n",
    "\n",
    "# Check shapes of testing data\n",
    "print(\"Testing data shape - X_test:\", X_test.shape, \"y_test:\", y_test.shape)\n",
    "\n",
    "# Check shapes of validation data\n",
    "print(\"Validation data shape - X_dev:\", X_dev.shape, \"y_dev:\", y_dev.shape)"
   ]
  },
  {
   "cell_type": "code",
   "execution_count": null,
   "id": "0e891abc-1457-4b79-87c9-98c24c41b2a8",
   "metadata": {},
   "outputs": [],
   "source": []
  },
  {
   "cell_type": "code",
   "execution_count": null,
   "id": "697502f2-066a-45f1-a932-8cd41f2ae59c",
   "metadata": {},
   "outputs": [],
   "source": []
  },
  {
   "cell_type": "markdown",
   "id": "64f1e02f",
   "metadata": {},
   "source": [
    "# Model Training Using Convolutional Neural Network"
   ]
  },
  {
   "cell_type": "code",
   "execution_count": 8,
   "id": "c897cf44",
   "metadata": {},
   "outputs": [],
   "source": [
    "from tensorflow.keras.models import Sequential\n",
    "from tensorflow.keras.layers import Conv2D, MaxPooling2D, Dense, Flatten\n",
    "from tensorflow.keras.layers import Dropout, BatchNormalization\n",
    "from tensorflow.keras.callbacks import EarlyStopping\n"
   ]
  },
  {
   "cell_type": "code",
   "execution_count": 9,
   "id": "a0ef1b06-d7b4-4876-aa3c-0a9b3a5cf80c",
   "metadata": {},
   "outputs": [
    {
     "name": "stdout",
     "output_type": "stream",
     "text": [
      "WARNING:tensorflow:From C:\\Users\\neoga\\AppData\\Local\\Packages\\PythonSoftwareFoundation.Python.3.11_qbz5n2kfra8p0\\LocalCache\\local-packages\\Python311\\site-packages\\keras\\src\\backend.py:873: The name tf.get_default_graph is deprecated. Please use tf.compat.v1.get_default_graph instead.\n",
      "\n",
      "WARNING:tensorflow:From C:\\Users\\neoga\\AppData\\Local\\Packages\\PythonSoftwareFoundation.Python.3.11_qbz5n2kfra8p0\\LocalCache\\local-packages\\Python311\\site-packages\\keras\\src\\layers\\pooling\\max_pooling2d.py:161: The name tf.nn.max_pool is deprecated. Please use tf.nn.max_pool2d instead.\n",
      "\n"
     ]
    }
   ],
   "source": [
    "model_x = Sequential()\n",
    "\n",
    "model_x.add(Conv2D(32, kernel_size=(3,3), padding='valid', activation='relu', input_shape=(50,50,3)))\n",
    "# model_x.add(BatchNormalization())\n",
    "model_x.add(MaxPooling2D(pool_size=(2,2), strides=2, padding='valid'))\n",
    "\n",
    "model_x.add(Conv2D(64, kernel_size=(3,3), padding='valid', activation='relu'))\n",
    "# model_x.add(BatchNormalization())\n",
    "model_x.add(MaxPooling2D(pool_size=(2,2), strides=2, padding='valid'))\n",
    "\n",
    "model_x.add(Conv2D(128, kernel_size=(3,3), padding='valid', activation='relu'))\n",
    "# model_x.add(BatchNormalization())\n",
    "model_x.add(MaxPooling2D(pool_size=(2,2), strides=2, padding='valid'))\n",
    "\n",
    "# model_x.add(Conv2D(256, kernel_size=(3,3), padding='valid', activation='relu'))\n",
    "# model_x.add(BatchNormalization())\n",
    "# model_x.add(MaxPooling2D(pool_size=(2,2), strides=2, padding='valid'))\n",
    "\n",
    "model_x.add(Flatten())\n",
    "\n",
    "# model_x.add(Dense(128, activation='relu'))\n",
    "# model_x.add(Dropout(0.2))\n",
    "model_x.add(Dense(64, activation='relu'))\n",
    "model_x.add(Dropout(0.2))\n",
    "model_x.add(Dense(32, activation='relu'))\n",
    "model_x.add(Dropout(0.2))\n",
    "model_x.add(Dense(1, activation='sigmoid'))"
   ]
  },
  {
   "cell_type": "code",
   "execution_count": 10,
   "id": "b63e251a-b858-4676-b659-02d9aedaf9f8",
   "metadata": {},
   "outputs": [
    {
     "name": "stdout",
     "output_type": "stream",
     "text": [
      "WARNING:tensorflow:From C:\\Users\\neoga\\AppData\\Local\\Packages\\PythonSoftwareFoundation.Python.3.11_qbz5n2kfra8p0\\LocalCache\\local-packages\\Python311\\site-packages\\keras\\src\\optimizers\\__init__.py:309: The name tf.train.Optimizer is deprecated. Please use tf.compat.v1.train.Optimizer instead.\n",
      "\n"
     ]
    }
   ],
   "source": [
    "model_x.compile(optimizer='adam', loss='binary_crossentropy', metrics='accuracy')\n",
    "early_stopping = EarlyStopping(monitor='val_loss', patience=5, restore_best_weights=True)\n"
   ]
  },
  {
   "cell_type": "code",
   "execution_count": 11,
   "id": "c0158b30-bad1-49a3-b3f8-19f9d68082ce",
   "metadata": {},
   "outputs": [
    {
     "name": "stdout",
     "output_type": "stream",
     "text": [
      "Epoch 1/20\n",
      "WARNING:tensorflow:From C:\\Users\\neoga\\AppData\\Local\\Packages\\PythonSoftwareFoundation.Python.3.11_qbz5n2kfra8p0\\LocalCache\\local-packages\\Python311\\site-packages\\keras\\src\\utils\\tf_utils.py:492: The name tf.ragged.RaggedTensorValue is deprecated. Please use tf.compat.v1.ragged.RaggedTensorValue instead.\n",
      "\n",
      "WARNING:tensorflow:From C:\\Users\\neoga\\AppData\\Local\\Packages\\PythonSoftwareFoundation.Python.3.11_qbz5n2kfra8p0\\LocalCache\\local-packages\\Python311\\site-packages\\keras\\src\\engine\\base_layer_utils.py:384: The name tf.executing_eagerly_outside_functions is deprecated. Please use tf.compat.v1.executing_eagerly_outside_functions instead.\n",
      "\n",
      "91/91 [==============================] - 7s 42ms/step - loss: 0.6746 - accuracy: 0.5917 - val_loss: 0.6307 - val_accuracy: 0.6907\n",
      "Epoch 2/20\n",
      "91/91 [==============================] - 3s 35ms/step - loss: 0.5987 - accuracy: 0.7102 - val_loss: 0.5690 - val_accuracy: 0.7212\n",
      "Epoch 3/20\n",
      "91/91 [==============================] - 3s 34ms/step - loss: 0.5826 - accuracy: 0.7109 - val_loss: 0.5428 - val_accuracy: 0.7308\n",
      "Epoch 4/20\n",
      "91/91 [==============================] - 3s 34ms/step - loss: 0.5523 - accuracy: 0.7349 - val_loss: 0.5338 - val_accuracy: 0.7500\n",
      "Epoch 5/20\n",
      "91/91 [==============================] - 3s 33ms/step - loss: 0.5472 - accuracy: 0.7366 - val_loss: 0.5835 - val_accuracy: 0.7308\n",
      "Epoch 6/20\n",
      "91/91 [==============================] - 3s 35ms/step - loss: 0.5612 - accuracy: 0.7335 - val_loss: 0.5529 - val_accuracy: 0.7356\n",
      "Epoch 7/20\n",
      "91/91 [==============================] - 3s 36ms/step - loss: 0.5424 - accuracy: 0.7394 - val_loss: 0.5249 - val_accuracy: 0.7436\n",
      "Epoch 8/20\n",
      "91/91 [==============================] - 3s 35ms/step - loss: 0.5309 - accuracy: 0.7562 - val_loss: 0.5716 - val_accuracy: 0.7388\n",
      "Epoch 9/20\n",
      "91/91 [==============================] - 3s 35ms/step - loss: 0.5409 - accuracy: 0.7370 - val_loss: 0.5059 - val_accuracy: 0.7612\n",
      "Epoch 10/20\n",
      "91/91 [==============================] - 3s 36ms/step - loss: 0.5371 - accuracy: 0.7452 - val_loss: 0.5185 - val_accuracy: 0.7596\n",
      "Epoch 11/20\n",
      "91/91 [==============================] - 3s 35ms/step - loss: 0.5234 - accuracy: 0.7503 - val_loss: 0.5502 - val_accuracy: 0.7260\n",
      "Epoch 12/20\n",
      "91/91 [==============================] - 3s 36ms/step - loss: 0.5323 - accuracy: 0.7479 - val_loss: 0.5255 - val_accuracy: 0.7516\n",
      "Epoch 13/20\n",
      "91/91 [==============================] - 3s 35ms/step - loss: 0.5108 - accuracy: 0.7586 - val_loss: 0.4967 - val_accuracy: 0.7756\n",
      "Epoch 14/20\n",
      "91/91 [==============================] - 3s 37ms/step - loss: 0.5014 - accuracy: 0.7624 - val_loss: 0.4974 - val_accuracy: 0.7628\n",
      "Epoch 15/20\n",
      "91/91 [==============================] - 3s 35ms/step - loss: 0.4959 - accuracy: 0.7685 - val_loss: 0.5065 - val_accuracy: 0.7676\n",
      "Epoch 16/20\n",
      "91/91 [==============================] - 3s 36ms/step - loss: 0.4952 - accuracy: 0.7716 - val_loss: 0.5041 - val_accuracy: 0.7596\n",
      "Epoch 17/20\n",
      "91/91 [==============================] - 3s 36ms/step - loss: 0.4878 - accuracy: 0.7751 - val_loss: 0.5010 - val_accuracy: 0.7724\n",
      "Epoch 18/20\n",
      "91/91 [==============================] - 3s 35ms/step - loss: 0.5065 - accuracy: 0.7589 - val_loss: 0.5160 - val_accuracy: 0.7372\n"
     ]
    }
   ],
   "source": [
    "history = model_x.fit(train_data, label_data, epochs=20, validation_data=(X_dev, y_dev), callbacks = [early_stopping])\n"
   ]
  },
  {
   "cell_type": "code",
   "execution_count": 21,
   "id": "c4bb5385-bc90-4639-9cf3-cc4140d80e38",
   "metadata": {},
   "outputs": [
    {
     "data": {
      "image/png": "[encoded data removed]",
      "text/plain": [
       "<Figure size 640x480 with 1 Axes>"
      ]
     },
     "metadata": {},
     "output_type": "display_data"
    }
   ],
   "source": [
    "# Training graph for accuracy\n",
    "\n",
    "plt.plot(history.history['accuracy'], color='red', label='train')\n",
    "plt.plot(history.history['val_accuracy'], color='blue', label='validation')\n",
    "plt.legend()\n",
    "plt.show()"
   ]
  },
  {
   "cell_type": "code",
   "execution_count": 12,
   "id": "1f7ffc6c",
   "metadata": {},
   "outputs": [],
   "source": [
    "# model1=Sequential([\n",
    "#     Conv2D(32,(3,3),activation ='relu',input_shape=(50,50,3)), #LayerType(no. of filters, (size of the filter), activation,input shape)\n",
    "#     MaxPooling2D((2,2)),\n",
    "#     Conv2D(32, (3,3), activation ='relu'),\n",
    "#     MaxPooling2D((2,2)),\n",
    "#     Flatten(),\n",
    "#     Dense(64,activation ='relu'),\n",
    "#     Dense(1, activation ='sigmoid')\n",
    "# ])"
   ]
  },
  {
   "cell_type": "code",
   "execution_count": 13,
   "id": "8943e6dc",
   "metadata": {},
   "outputs": [],
   "source": [
    "# # opt=keras.optimizers.legacy.SGD(learning_rate=0.001) #this line is used for specifying the learning rate.\n",
    "# model1.compile(loss='binary_crossentropy',optimizer='adam',metrics=['accuracy'])"
   ]
  },
  {
   "cell_type": "code",
   "execution_count": 14,
   "id": "da112772",
   "metadata": {},
   "outputs": [],
   "source": [
    "# model1.fit(train_data, label_data, epochs=20, batch_size=32, validation_data=(X_dev, y_dev), callbacks = [early_stopping])"
   ]
  },
  {
   "cell_type": "code",
   "execution_count": null,
   "id": "13120e1b-be40-4de6-be9a-d3fda73b2d17",
   "metadata": {},
   "outputs": [],
   "source": []
  },
  {
   "cell_type": "markdown",
   "id": "33cb321d",
   "metadata": {},
   "source": [
    "# CNN Model Evaluation "
   ]
  },
  {
   "cell_type": "code",
   "execution_count": 15,
   "id": "fad8a974-2940-4e41-96fb-636c7db9b73e",
   "metadata": {},
   "outputs": [
    {
     "name": "stdout",
     "output_type": "stream",
     "text": [
      "20/20 [==============================] - 0s 17ms/step - loss: 0.4825 - accuracy: 0.7788\n",
      "Test accuracy: 0.7788461446762085\n"
     ]
    }
   ],
   "source": [
    "# Evaluate the model on the testing set\n",
    "test_loss, test_accuracy = model_x.evaluate(X_test, y_test)\n",
    "\n",
    "# Print the test accuracy\n",
    "print(\"Test accuracy:\", test_accuracy)"
   ]
  },
  {
   "cell_type": "code",
   "execution_count": 22,
   "id": "6ba65633-925a-4e7d-ae91-ea224800f409",
   "metadata": {},
   "outputs": [],
   "source": [
    "# stop here"
   ]
  },
  {
   "cell_type": "code",
   "execution_count": 19,
   "id": "d4c4738e",
   "metadata": {},
   "outputs": [
    {
     "data": {
      "image/png": "[encoded data removed]",
      "text/plain": [
       "<Figure size 640x480 with 1 Axes>"
      ]
     },
     "metadata": {},
     "output_type": "display_data"
    },
    {
     "name": "stdout",
     "output_type": "stream",
     "text": [
      "1/1 [==============================] - 0s 47ms/step\n",
      "Our Model Says the Breast Cancer is:  malignant\n",
      "And according to trained data's label dataset it is:  malignant\n"
     ]
    }
   ],
   "source": [
    "idx2=random.randint(0,len(X_test))\n",
    "plt.imshow(X_test[idx2,:])\n",
    "plt.show()\n",
    "\n",
    "label_test_data=model_x.predict(X_test[idx2,:].reshape(1,50,50,3))\n",
    "label_test_data=label_test_data>0.5\n",
    "\n",
    "if(label_test_data==0):\n",
    "    pred1='benign'\n",
    "else:\n",
    "    pred1='malignant'\n",
    "\n",
    "label_data_value=y_test[idx2]\n",
    "\n",
    "if(label_data_value==0):\n",
    "    pred2='benign'\n",
    "else:\n",
    "    pred2='malignant'\n",
    "    \n",
    "    \n",
    "print(\"Our Model Says the Breast Cancer is: \", pred1)\n",
    "print(\"And according to trained data's label dataset it is: \", pred2)"
   ]
  },
  {
   "cell_type": "code",
   "execution_count": 20,
   "id": "23bdd330",
   "metadata": {},
   "outputs": [
    {
     "data": {
      "image/png": "[encoded data removed]",
      "text/plain": [
       "<Figure size 640x480 with 1 Axes>"
      ]
     },
     "metadata": {},
     "output_type": "display_data"
    },
    {
     "name": "stdout",
     "output_type": "stream",
     "text": [
      "1/1 [==============================] - 0s 57ms/step\n",
      "Our Model Says the Breast Cancer is:  benign\n"
     ]
    }
   ],
   "source": [
    "idx3=random.randint(0,len(test_data))\n",
    "plt.imshow(test_data[idx3,:])\n",
    "plt.show()\n",
    "\n",
    "label_test_data=model_x.predict(test_data[idx3,:].reshape(1,50,50,3))\n",
    "label_test_data=label_test_data>0.5\n",
    "\n",
    "if(label_test_data==0):\n",
    "    pred3='benign'\n",
    "else:\n",
    "    pred3='malignant'\n",
    "    \n",
    "print(\"Our Model Says the Breast Cancer is: \", pred3)"
   ]
  },
  {
   "cell_type": "markdown",
   "id": "e34e18c5-2890-43e7-bc24-07bb0e30a37b",
   "metadata": {},
   "source": [
    "### Converting to csv"
   ]
  },
  {
   "cell_type": "code",
   "execution_count": 58,
   "id": "1062a43c-c849-404b-967e-14101d20a014",
   "metadata": {},
   "outputs": [
    {
     "name": "stdout",
     "output_type": "stream",
     "text": [
      "44/44 [==============================] - 1s 13ms/step\n"
     ]
    }
   ],
   "source": [
    "import pandas as pd\n",
    "\n",
    "# Predict output values for test data\n",
    "predictions = model_x.predict(test_data)\n",
    "\n",
    "# Convert numerical predictions to categorical labels\n",
    "labels = ['malignant' if output > 0.5 else 'benign' for output in predictions]\n",
    "\n",
    "# Prepare data for CSV\n",
    "data = {'Image': [f'image{i+1}' for i in range(len(predictions))],\n",
    "        'Output': labels}\n",
    "\n",
    "# Create DataFrame\n",
    "df = pd.DataFrame(data)\n",
    "\n",
    "# Save DataFrame to CSV\n",
    "df.to_csv('test_set_predictions_cnn.csv', index=False)"
   ]
  },
  {
   "cell_type": "markdown",
   "id": "aed2bc72",
   "metadata": {},
   "source": [
    "# Model Training Using SVM"
   ]
  },
  {
   "cell_type": "code",
   "execution_count": 23,
   "id": "fecdabef",
   "metadata": {},
   "outputs": [],
   "source": [
    "from sklearn import svm\n",
    "from sklearn.svm import SVC\n",
    "from sklearn.preprocessing import StandardScaler\n",
    "from sklearn.metrics import accuracy_score"
   ]
  },
  {
   "cell_type": "code",
   "execution_count": 24,
   "id": "345147db",
   "metadata": {},
   "outputs": [],
   "source": [
    "train_data_flat = train_data.reshape(len(train_data), -1)\n",
    "test_data_flat = test_data.reshape(len(test_data), -1)"
   ]
  },
  {
   "cell_type": "code",
   "execution_count": 25,
   "id": "a24c8c15",
   "metadata": {},
   "outputs": [],
   "source": [
    "scaler = StandardScaler()\n",
    "train_scaled_data = scaler.fit_transform(train_data_flat)\n",
    "test_scaled_data = scaler.transform(test_data_flat)  "
   ]
  },
  {
   "cell_type": "code",
   "execution_count": 26,
   "id": "17b272a9",
   "metadata": {},
   "outputs": [
    {
     "data": {
      "text/html": [
       "<style>#sk-container-id-1 {color: black;}#sk-container-id-1 pre{padding: 0;}#sk-container-id-1 div.sk-toggleable {background-color: white;}#sk-container-id-1 label.sk-toggleable__label {cursor: pointer;display: block;width: 100%;margin-bottom: 0;padding: 0.3em;box-sizing: border-box;text-align: center;}#sk-container-id-1 label.sk-toggleable__label-arrow:before {content: \"▸\";float: left;margin-right: 0.25em;color: #696969;}#sk-container-id-1 label.sk-toggleable__label-arrow:hover:before {color: black;}#sk-container-id-1 div.sk-estimator:hover label.sk-toggleable__label-arrow:before {color: black;}#sk-container-id-1 div.sk-toggleable__content {max-height: 0;max-width: 0;overflow: hidden;text-align: left;background-color: #f0f8ff;}#sk-container-id-1 div.sk-toggleable__content pre {margin: 0.2em;color: black;border-radius: 0.25em;background-color: #f0f8ff;}#sk-container-id-1 input.sk-toggleable__control:checked~div.sk-toggleable__content {max-height: 200px;max-width: 100%;overflow: auto;}#sk-container-id-1 input.sk-toggleable__control:checked~label.sk-toggleable__label-arrow:before {content: \"▾\";}#sk-container-id-1 div.sk-estimator input.sk-toggleable__control:checked~label.sk-toggleable__label {background-color: #d4ebff;}#sk-container-id-1 div.sk-label input.sk-toggleable__control:checked~label.sk-toggleable__label {background-color: #d4ebff;}#sk-container-id-1 input.sk-hidden--visually {border: 0;clip: rect(1px 1px 1px 1px);clip: rect(1px, 1px, 1px, 1px);height: 1px;margin: -1px;overflow: hidden;padding: 0;position: absolute;width: 1px;}#sk-container-id-1 div.sk-estimator {font-family: monospace;background-color: #f0f8ff;border: 1px dotted black;border-radius: 0.25em;box-sizing: border-box;margin-bottom: 0.5em;}#sk-container-id-1 div.sk-estimator:hover {background-color: #d4ebff;}#sk-container-id-1 div.sk-parallel-item::after {content: \"\";width: 100%;border-bottom: 1px solid gray;flex-grow: 1;}#sk-container-id-1 div.sk-label:hover label.sk-toggleable__label {background-color: #d4ebff;}#sk-container-id-1 div.sk-serial::before {content: \"\";position: absolute;border-left: 1px solid gray;box-sizing: border-box;top: 0;bottom: 0;left: 50%;z-index: 0;}#sk-container-id-1 div.sk-serial {display: flex;flex-direction: column;align-items: center;background-color: white;padding-right: 0.2em;padding-left: 0.2em;position: relative;}#sk-container-id-1 div.sk-item {position: relative;z-index: 1;}#sk-container-id-1 div.sk-parallel {display: flex;align-items: stretch;justify-content: center;background-color: white;position: relative;}#sk-container-id-1 div.sk-item::before, #sk-container-id-1 div.sk-parallel-item::before {content: \"\";position: absolute;border-left: 1px solid gray;box-sizing: border-box;top: 0;bottom: 0;left: 50%;z-index: -1;}#sk-container-id-1 div.sk-parallel-item {display: flex;flex-direction: column;z-index: 1;position: relative;background-color: white;}#sk-container-id-1 div.sk-parallel-item:first-child::after {align-self: flex-end;width: 50%;}#sk-container-id-1 div.sk-parallel-item:last-child::after {align-self: flex-start;width: 50%;}#sk-container-id-1 div.sk-parallel-item:only-child::after {width: 0;}#sk-container-id-1 div.sk-dashed-wrapped {border: 1px dashed gray;margin: 0 0.4em 0.5em 0.4em;box-sizing: border-box;padding-bottom: 0.4em;background-color: white;}#sk-container-id-1 div.sk-label label {font-family: monospace;font-weight: bold;display: inline-block;line-height: 1.2em;}#sk-container-id-1 div.sk-label-container {text-align: center;}#sk-container-id-1 div.sk-container {/* jupyter's `normalize.less` sets `[hidden] { display: none; }` but bootstrap.min.css set `[hidden] { display: none !important; }` so we also need the `!important` here to be able to override the default hidden behavior on the sphinx rendered scikit-learn.org. See: https://github.com/scikit-learn/scikit-learn/issues/21755 */display: inline-block !important;position: relative;}#sk-container-id-1 div.sk-text-repr-fallback {display: none;}</style><div id=\"sk-container-id-1\" class=\"sk-top-container\"><div class=\"sk-text-repr-fallback\"><pre>SVC()</pre><b>In a Jupyter environment, please rerun this cell to show the HTML representation or trust the notebook. <br />On GitHub, the HTML representation is unable to render, please try loading this page with nbviewer.org.</b></div><div class=\"sk-container\" hidden><div class=\"sk-item\"><div class=\"sk-estimator sk-toggleable\"><input class=\"sk-toggleable__control sk-hidden--visually\" id=\"sk-estimator-id-1\" type=\"checkbox\" checked><label for=\"sk-estimator-id-1\" class=\"sk-toggleable__label sk-toggleable__label-arrow\">SVC</label><div class=\"sk-toggleable__content\"><pre>SVC()</pre></div></div></div></div></div>"
      ],
      "text/plain": [
       "SVC()"
      ]
     },
     "execution_count": 26,
     "metadata": {},
     "output_type": "execute_result"
    }
   ],
   "source": [
    "model2 = SVC(kernel=\"rbf\")  \n",
    "model2.fit(train_scaled_data, label_data)"
   ]
  },
  {
   "cell_type": "code",
   "execution_count": 27,
   "id": "3c1edae0",
   "metadata": {},
   "outputs": [],
   "source": [
    "train_pred_svm=model2.predict(train_scaled_data)"
   ]
  },
  {
   "cell_type": "code",
   "execution_count": 28,
   "id": "a499019e",
   "metadata": {},
   "outputs": [
    {
     "name": "stdout",
     "output_type": "stream",
     "text": [
      "Accuracy: 0.8835851648351648\n"
     ]
    }
   ],
   "source": [
    "accuracy_svm= accuracy_score(label_data, train_pred_svm)\n",
    "print(\"Accuracy:\", accuracy_svm)"
   ]
  },
  {
   "cell_type": "code",
   "execution_count": 32,
   "id": "5efc3bcd-6f6b-4b13-b7a2-5301ba1cd229",
   "metadata": {},
   "outputs": [],
   "source": [
    "def accuracy_svm_model(X,Y):\n",
    "    data_flat = X.reshape(len(X), -1)\n",
    "    scaled_data = scaler.transform(data_flat) \n",
    "    pred_svm=model2.predict(scaled_data)\n",
    "    accuracy_model= accuracy_score(Y, pred_svm)\n",
    "    return accuracy_model"
   ]
  },
  {
   "cell_type": "code",
   "execution_count": 34,
   "id": "aa466f94-bed4-4ff0-849c-a00d480e833d",
   "metadata": {},
   "outputs": [
    {
     "name": "stdout",
     "output_type": "stream",
     "text": [
      "Accuracy of model on dev set: 0.7756410256410257\n"
     ]
    }
   ],
   "source": [
    "# Accuracy on dev set\n",
    "print('Accuracy of model on dev set:', accuracy_svm_model(X_dev, y_dev))"
   ]
  },
  {
   "cell_type": "code",
   "execution_count": 35,
   "id": "b5fb0f96",
   "metadata": {},
   "outputs": [
    {
     "name": "stdout",
     "output_type": "stream",
     "text": [
      "Accuracy of model on dev set: 0.7644230769230769\n"
     ]
    }
   ],
   "source": [
    "# Accuracy on test set\n",
    "print('Accuracy of model on dev set:', accuracy_svm_model(X_test, y_test))"
   ]
  },
  {
   "cell_type": "markdown",
   "id": "2e0d32c0-65e9-4496-9605-ce443b502680",
   "metadata": {},
   "source": [
    "### Converting to csv"
   ]
  },
  {
   "cell_type": "code",
   "execution_count": 57,
   "id": "6df680ad-40f8-4d06-9c73-d536adf33d38",
   "metadata": {},
   "outputs": [],
   "source": [
    "# Predict output values for test data\n",
    "predictions_2 = model2.predict(test_scaled_data)\n",
    "\n",
    "# Convert numerical predictions to categorical labels\n",
    "labels_2 = ['malignant' if output > 0.5 else 'benign' for output in predictions]\n",
    "\n",
    "# Prepare data for CSV\n",
    "data_2 = {'Image': [f'image{i+1}' for i in range(len(predictions))],\n",
    "        'Output': labels}\n",
    "\n",
    "# Create DataFrame\n",
    "df_2 = pd.DataFrame(data)\n",
    "\n",
    "# Save DataFrame to CSV\n",
    "df_2.to_csv('test_set_predictions_svm.csv', index=False)"
   ]
  },
  {
   "cell_type": "markdown",
   "id": "dff92140-92cb-4011-afa0-3f51e5d52211",
   "metadata": {},
   "source": [
    "# Model Training Using to MLP"
   ]
  },
  {
   "cell_type": "code",
   "execution_count": 36,
   "id": "0b60d5e3-df1f-421b-a9d3-cf2e6dd3544c",
   "metadata": {},
   "outputs": [],
   "source": [
    "import tensorflow as tf\n",
    "from tensorflow import keras\n",
    "from tensorflow.keras import layers"
   ]
  },
  {
   "cell_type": "code",
   "execution_count": 37,
   "id": "d851b163-f387-4165-a7a7-9902087a4daf",
   "metadata": {},
   "outputs": [],
   "source": [
    "model3 = tf.keras.models.Sequential([\n",
    "        tf.keras.layers.Flatten(input_shape=(50,50,3)),\n",
    "        tf.keras.layers.Dense(256, activation='relu'),\n",
    "        tf.keras.layers.Dense(128, activation='relu'),\n",
    "        tf.keras.layers.Dense(2, activation='sigmoid')\n",
    "    ])\n",
    "\n",
    "model3.compile(loss='sparse_categorical_crossentropy', optimizer='adam', metrics=['accuracy'])"
   ]
  },
  {
   "cell_type": "code",
   "execution_count": 39,
   "id": "f72bf4db-b59c-4736-9e67-098f593ba497",
   "metadata": {},
   "outputs": [
    {
     "name": "stdout",
     "output_type": "stream",
     "text": [
      "Epoch 1/20\n",
      "91/91 [==============================] - 3s 18ms/step - loss: 1.1485 - accuracy: 0.5656 - val_loss: 0.6652 - val_accuracy: 0.5801\n",
      "Epoch 2/20\n",
      "91/91 [==============================] - 2s 18ms/step - loss: 0.6582 - accuracy: 0.6302 - val_loss: 0.6904 - val_accuracy: 0.5929\n",
      "Epoch 3/20\n",
      "91/91 [==============================] - 2s 18ms/step - loss: 0.5963 - accuracy: 0.6947 - val_loss: 0.7539 - val_accuracy: 0.5288\n",
      "Epoch 4/20\n",
      "91/91 [==============================] - 2s 19ms/step - loss: 0.6241 - accuracy: 0.6617 - val_loss: 0.6187 - val_accuracy: 0.6266\n",
      "Epoch 5/20\n",
      "91/91 [==============================] - 1s 12ms/step - loss: 0.6236 - accuracy: 0.6648 - val_loss: 0.5785 - val_accuracy: 0.7163\n",
      "Epoch 6/20\n",
      "91/91 [==============================] - 1s 8ms/step - loss: 0.5755 - accuracy: 0.7012 - val_loss: 0.5408 - val_accuracy: 0.7564\n",
      "Epoch 7/20\n",
      "91/91 [==============================] - 1s 8ms/step - loss: 0.6360 - accuracy: 0.6707 - val_loss: 0.5545 - val_accuracy: 0.7212\n",
      "Epoch 8/20\n",
      "91/91 [==============================] - 1s 11ms/step - loss: 0.5783 - accuracy: 0.6975 - val_loss: 0.5696 - val_accuracy: 0.7067\n",
      "Epoch 9/20\n",
      "91/91 [==============================] - 2s 19ms/step - loss: 0.5938 - accuracy: 0.6944 - val_loss: 0.5966 - val_accuracy: 0.6683\n",
      "Epoch 10/20\n",
      "91/91 [==============================] - 2s 18ms/step - loss: 0.5947 - accuracy: 0.6827 - val_loss: 0.6685 - val_accuracy: 0.6314\n",
      "Epoch 11/20\n",
      "91/91 [==============================] - 2s 20ms/step - loss: 0.5550 - accuracy: 0.7239 - val_loss: 0.5386 - val_accuracy: 0.7468\n",
      "Epoch 12/20\n",
      "91/91 [==============================] - 2s 18ms/step - loss: 0.5401 - accuracy: 0.7404 - val_loss: 0.5310 - val_accuracy: 0.7388\n",
      "Epoch 13/20\n",
      "91/91 [==============================] - 2s 18ms/step - loss: 0.5769 - accuracy: 0.6968 - val_loss: 0.5449 - val_accuracy: 0.7260\n",
      "Epoch 14/20\n",
      "91/91 [==============================] - 2s 19ms/step - loss: 0.5774 - accuracy: 0.7005 - val_loss: 0.6788 - val_accuracy: 0.5881\n",
      "Epoch 15/20\n",
      "91/91 [==============================] - 2s 20ms/step - loss: 0.5539 - accuracy: 0.7242 - val_loss: 0.5361 - val_accuracy: 0.7436\n",
      "Epoch 16/20\n",
      "91/91 [==============================] - 2s 19ms/step - loss: 0.5438 - accuracy: 0.7297 - val_loss: 0.5247 - val_accuracy: 0.7564\n",
      "Epoch 17/20\n",
      "91/91 [==============================] - 2s 18ms/step - loss: 0.5372 - accuracy: 0.7414 - val_loss: 0.5388 - val_accuracy: 0.7516\n",
      "Epoch 18/20\n",
      "91/91 [==============================] - 2s 16ms/step - loss: 0.5456 - accuracy: 0.7380 - val_loss: 0.5783 - val_accuracy: 0.7083\n",
      "Epoch 19/20\n",
      "91/91 [==============================] - 1s 12ms/step - loss: 0.5363 - accuracy: 0.7363 - val_loss: 0.6615 - val_accuracy: 0.5785\n",
      "Epoch 20/20\n",
      "91/91 [==============================] - 1s 14ms/step - loss: 0.5468 - accuracy: 0.7373 - val_loss: 0.5352 - val_accuracy: 0.7356\n"
     ]
    },
    {
     "data": {
      "text/plain": [
       "<keras.src.callbacks.History at 0x25078bcc650>"
      ]
     },
     "execution_count": 39,
     "metadata": {},
     "output_type": "execute_result"
    }
   ],
   "source": [
    "model3.fit(train_data, label_data, epochs=20, batch_size=32, validation_data=(X_dev, y_dev))"
   ]
  },
  {
   "cell_type": "markdown",
   "id": "26b81fed-e70a-41de-9845-9e46e2471952",
   "metadata": {},
   "source": [
    "# MLP Model Evaluation"
   ]
  },
  {
   "cell_type": "code",
   "execution_count": 43,
   "id": "829f7c1f-cf2b-4381-b8fe-165a54fdacfa",
   "metadata": {},
   "outputs": [
    {
     "name": "stdout",
     "output_type": "stream",
     "text": [
      "91/91 [==============================] - 0s 4ms/step\n",
      "20/20 [==============================] - 0s 5ms/step\n",
      "20/20 [==============================] - 0s 5ms/step\n"
     ]
    }
   ],
   "source": [
    "train_pred_mlp_data=model3.predict(train_data)\n",
    "val_pred_mlp_data=model3.predict(X_dev)\n",
    "test_pred_mlp_data=model3.predict(X_test)"
   ]
  },
  {
   "cell_type": "code",
   "execution_count": 46,
   "id": "a63554a4-85c0-4850-8fe3-990707fe0a09",
   "metadata": {},
   "outputs": [
    {
     "name": "stdout",
     "output_type": "stream",
     "text": [
      "20/20 [==============================] - 0s 5ms/step - loss: 0.5352 - accuracy: 0.7356\n",
      "20/20 [==============================] - 0s 5ms/step - loss: 0.5266 - accuracy: 0.7420\n",
      "Validation accuracy: 0.7355769276618958\n",
      "Test accuracy: 0.7419871687889099\n"
     ]
    }
   ],
   "source": [
    "# Evaluate the model on the validation and testing set\n",
    "val_loss, val_accuracy = model3.evaluate(X_dev, y_dev)\n",
    "test_loss, test_accuracy = model3.evaluate(X_test, y_test)\n",
    "\n",
    "# Print the test accuracy\n",
    "print(\"Validation accuracy:\", val_accuracy)\n",
    "print(\"Test accuracy:\", test_accuracy)"
   ]
  },
  {
   "cell_type": "markdown",
   "id": "201fd703-bae0-4855-88a7-5bd249a4f5ce",
   "metadata": {},
   "source": [
    "### Converting to csv"
   ]
  },
  {
   "cell_type": "code",
   "execution_count": 55,
   "id": "dd53cfe4-11da-4d50-9f4b-ebacdc3f7d48",
   "metadata": {},
   "outputs": [
    {
     "name": "stdout",
     "output_type": "stream",
     "text": [
      "44/44 [==============================] - 0s 5ms/step\n"
     ]
    }
   ],
   "source": [
    "# Predict probabilities for test data\n",
    "predictions_3 = model3.predict(test_data)\n",
    "\n",
    "# Convert numerical predictions to categorical labels\n",
    "labels_3 = ['malignant' if pred > 0.5 else 'benign' for pred in predictions]\n",
    "\n",
    "# Prepare data for CSV\n",
    "data_3 = {'Image': [f'image{i+1}' for i in range(len(predictions))],\n",
    "        'Output': labels}\n",
    "\n",
    "# Create DataFrame\n",
    "df_3 = pd.DataFrame(data)\n",
    "\n",
    "# Save DataFrame to CSV\n",
    "df_3.to_csv('test_set_predictions_mlp.csv', index=False)"
   ]
  },
  {
   "cell_type": "code",
   "execution_count": null,
   "id": "2513e6ab-ea6a-4a04-aa6f-d0ef39c9d5bc",
   "metadata": {},
   "outputs": [],
   "source": []
  }
 ],
 "metadata": {
  "kernelspec": {
   "display_name": "Python 3 (ipykernel)",
   "language": "python",
   "name": "python3"
  },
  "language_info": {
   "codemirror_mode": {
    "name": "ipython",
    "version": 3
   },
   "file_extension": ".py",
   "mimetype": "text/x-python",
   "name": "python",
   "nbconvert_exporter": "python",
   "pygments_lexer": "ipython3",
   "version": "3.11.9"
  }
 },
 "nbformat": 4,
 "nbformat_minor": 5
}
